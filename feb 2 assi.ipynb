{
 "cells": [
  {
   "cell_type": "code",
   "execution_count": 2,
   "id": "a972d1cc-04e2-400d-93e0-55731fd07505",
   "metadata": {},
   "outputs": [],
   "source": [
    "Q1 = \"Explain with an example each when to use a for loop and a while loop.\""
   ]
  },
  {
   "cell_type": "code",
   "execution_count": 4,
   "id": "a9c1fb1c-0fb6-4790-91b6-e5c42f3facea",
   "metadata": {},
   "outputs": [
    {
     "name": "stdout",
     "output_type": "stream",
     "text": [
      "1\n",
      "2\n",
      "3\n",
      "4\n",
      "5\n",
      "6\n",
      "7\n",
      "8\n",
      "9\n"
     ]
    }
   ],
   "source": [
    "#ans\n",
    "for i in range(1,10):\n",
    "    print(i)"
   ]
  },
  {
   "cell_type": "code",
   "execution_count": 5,
   "id": "01ffcf3c-ecf7-4476-afb4-5f026bca22af",
   "metadata": {},
   "outputs": [
    {
     "name": "stdout",
     "output_type": "stream",
     "text": [
      "0\n",
      "1\n",
      "2\n",
      "3\n",
      "4\n",
      "5\n",
      "6\n",
      "7\n",
      "8\n",
      "9\n"
     ]
    }
   ],
   "source": [
    "i =0\n",
    "while(i<10):\n",
    "    print(i)\n",
    "    i =i+1"
   ]
  },
  {
   "cell_type": "code",
   "execution_count": 6,
   "id": "12bb6d44-9e2e-44f4-bcb4-3e7e48552d10",
   "metadata": {},
   "outputs": [],
   "source": [
    "Q2 = \"Write a python program to print the sum and product of the first 10 natural numbers using for and while loop.\""
   ]
  },
  {
   "cell_type": "code",
   "execution_count": 8,
   "id": "c5f23bec-43cd-4530-bd44-4dc2273ffb52",
   "metadata": {},
   "outputs": [
    {
     "name": "stdout",
     "output_type": "stream",
     "text": [
      "sum of 10 nos are: 91\n",
      "product of 10 nos are: 6227020800\n"
     ]
    }
   ],
   "source": [
    "#ans\n",
    "#for loop\n",
    "sum=0\n",
    "product =1\n",
    "for i in range(1,14):\n",
    "    sum = sum+i\n",
    "    product = product*i\n",
    "\n",
    "print(\"sum of 10 nos are:\",sum)\n",
    "print(\"product of 10 nos are:\",product)"
   ]
  },
  {
   "cell_type": "code",
   "execution_count": 9,
   "id": "aba79b3c-403d-447a-89ae-77fd7e7047a9",
   "metadata": {},
   "outputs": [
    {
     "name": "stdout",
     "output_type": "stream",
     "text": [
      "sum of 10 nos are: 91\n",
      "product of 10 nos are: 6227020800\n"
     ]
    }
   ],
   "source": [
    "#while loop\n",
    "sum=0\n",
    "products =1\n",
    "i=1\n",
    "while (i<14):\n",
    "    sum = sum+i\n",
    "    products = products*i\n",
    "    i +=1\n",
    "print(\"sum of 10 nos are:\",sum)\n",
    "print(\"product of 10 nos are:\",products)"
   ]
  },
  {
   "cell_type": "code",
   "execution_count": 10,
   "id": "823754bf-32f8-4103-8fb7-60da4c25af16",
   "metadata": {},
   "outputs": [],
   "source": [
    "Q3 = \"Create a python program to compute the electricity bill for a household. The per-unit charges in rupees are as follows: For the first 100 units, the user will be charged Rs. 4.5 per unit, for the next 100 units, the user will be charged Rs. 6 per unit, and for the next 100 units, the user will be charged Rs. 10 per unit, After 300 units and above the user will be charged Rs. 20 per unit. Your program must pass this test case: when the unit of electricity consumed by the user in a month is 310, the total electricity bill should be 2250\""
   ]
  },
  {
   "cell_type": "code",
   "execution_count": 12,
   "id": "ee323497-170b-4179-af33-75ed65a71022",
   "metadata": {},
   "outputs": [
    {
     "name": "stdin",
     "output_type": "stream",
     "text": [
      "Enter Units:  310\n"
     ]
    },
    {
     "name": "stdout",
     "output_type": "stream",
     "text": [
      "Total Electricity Bill Rs.2250\n"
     ]
    }
   ],
   "source": [
    "#ans\n",
    "units = int(input('Enter Units: '))\n",
    "bill = 0\n",
    "if units <= 100:\n",
    "    bill += 4.5*units\n",
    "    units -= 100\n",
    "elif units > 100 and units <= 200:\n",
    "    bill += 450\n",
    "    units -= 100\n",
    "    bill += 6*units\n",
    "elif units > 200 and units <= 300:\n",
    "    bill += 450+600\n",
    "    units -= 200\n",
    "    bill += 10*units\n",
    "elif units > 300:\n",
    "    bill += 450+600+1000\n",
    "    units -= 300\n",
    "    bill += 20*units\n",
    "print(f'Total Electricity Bill Rs.{bill}')"
   ]
  },
  {
   "cell_type": "code",
   "execution_count": 13,
   "id": "e3a3e968-1793-497f-b23b-93f3994c79a6",
   "metadata": {},
   "outputs": [],
   "source": [
    "Q4 = \"Create a list of numbers from 1 to 100. Use for loop and while loop to calculate the cube of each number and if the cube of that number is divisible by 4 or 5 then append that number in a list and print that list.\""
   ]
  },
  {
   "cell_type": "code",
   "execution_count": 14,
   "id": "547c4de8-9551-480c-8ae1-2123d8387daf",
   "metadata": {},
   "outputs": [
    {
     "name": "stdout",
     "output_type": "stream",
     "text": [
      "[2, 4, 5, 6, 8, 10, 12, 14, 15, 16, 18, 20, 22, 24, 25, 26, 28, 30, 32, 34, 35, 36, 38, 40, 42, 44, 45, 46, 48, 50, 52, 54, 55, 56, 58, 60, 62, 64, 65, 66, 68, 70, 72, 74, 75, 76, 78, 80, 82, 84, 85, 86, 88, 90, 92, 94, 95, 96, 98, 100]\n"
     ]
    }
   ],
   "source": [
    "#ans\n",
    "#for loop\n",
    "l = list(range(1,101))\n",
    "\n",
    "newlist =[]\n",
    "\n",
    "for i in l:\n",
    "    c= i**3\n",
    "    if c %4 ==0 or c%5==0:\n",
    "        newlist.append(i)\n",
    "print(newlist)"
   ]
  },
  {
   "cell_type": "code",
   "execution_count": 15,
   "id": "aade8a55-5a06-423f-8ad2-21bf3a01ca62",
   "metadata": {},
   "outputs": [
    {
     "name": "stdout",
     "output_type": "stream",
     "text": [
      "[2, 4, 5, 6, 8, 10, 12, 14, 15, 16, 18, 20, 22, 24, 25, 26, 28, 30, 32, 34, 35, 36, 38, 40, 42, 44, 45, 46, 48, 50, 52, 54, 55, 56, 58, 60, 62, 64, 65, 66, 68, 70, 72, 74, 75, 76, 78, 80, 82, 84, 85, 86, 88, 90, 92, 94, 95, 96, 98, 100]\n"
     ]
    }
   ],
   "source": [
    "#while loop\n",
    "newlist2 =[]\n",
    "i =1\n",
    "while i <= len(l):\n",
    "    c = i**3\n",
    "    if c%4 ==0 or c%5 ==0:\n",
    "        newlist2.append(i)\n",
    "    i+=1\n",
    "print(newlist2)"
   ]
  },
  {
   "cell_type": "code",
   "execution_count": 19,
   "id": "f55b1503-1309-469a-a6d1-d2840647796a",
   "metadata": {},
   "outputs": [],
   "source": [
    "Q5 = \"Write a program to filter count vowels in the below-given string I want to become a data scientist\""
   ]
  },
  {
   "cell_type": "code",
   "execution_count": null,
   "id": "5390f7eb-5bbc-4e03-8d37-a1d4cd49481b",
   "metadata": {},
   "outputs": [],
   "source": [
    "sts = str(input(\"Enter the input\"))\n",
    "vowels = 'aeiouAEIOU'\n",
    "count=0\n",
    "for char in sts:\n",
    "    if char in vowels:\n",
    "       count+=1\n",
    "print(count)"
   ]
  },
  {
   "cell_type": "code",
   "execution_count": null,
   "id": "c82b8a15-0b54-4c3e-b849-99dd10b59fc5",
   "metadata": {},
   "outputs": [],
   "source": []
  }
 ],
 "metadata": {
  "kernelspec": {
   "display_name": "Python 3 (ipykernel)",
   "language": "python",
   "name": "python3"
  },
  "language_info": {
   "codemirror_mode": {
    "name": "ipython",
    "version": 3
   },
   "file_extension": ".py",
   "mimetype": "text/x-python",
   "name": "python",
   "nbconvert_exporter": "python",
   "pygments_lexer": "ipython3",
   "version": "3.10.8"
  }
 },
 "nbformat": 4,
 "nbformat_minor": 5
}
